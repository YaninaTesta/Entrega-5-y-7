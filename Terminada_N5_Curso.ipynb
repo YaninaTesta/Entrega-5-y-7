{
  "nbformat": 4,
  "nbformat_minor": 0,
  "metadata": {
    "kernelspec": {
      "display_name": "Python 3",
      "language": "python",
      "name": "python3"
    },
    "language_info": {
      "codemirror_mode": {
        "name": "ipython",
        "version": 3
      },
      "file_extension": ".py",
      "mimetype": "text/x-python",
      "name": "python",
      "nbconvert_exporter": "python",
      "pygments_lexer": "ipython3",
      "version": "3.7.3"
    },
    "colab": {
      "provenance": [],
      "include_colab_link": true
    }
  },
  "cells": [
    {
      "cell_type": "markdown",
      "metadata": {
        "id": "view-in-github",
        "colab_type": "text"
      },
      "source": [
        "<a href=\"https://colab.research.google.com/github/YaninaTesta/Entrega-5-y-7/blob/main/Terminada_N5_Curso.ipynb\" target=\"_parent\"><img src=\"https://colab.research.google.com/assets/colab-badge.svg\" alt=\"Open In Colab\"/></a>"
      ]
    },
    {
      "cell_type": "markdown",
      "metadata": {
        "id": "Gp2WddtV9IwG"
      },
      "source": [
        "# Programa Ingenias+ Data Science"
      ]
    },
    {
      "cell_type": "code",
      "source": [],
      "metadata": {
        "id": "361aTiiUmeXV"
      },
      "execution_count": null,
      "outputs": []
    },
    {
      "cell_type": "markdown",
      "metadata": {
        "id": "X03mviQS9IyL"
      },
      "source": [
        "# Ejercicios\n",
        "\n",
        "1. Crear un arreglo de ceros de longitud 12\n",
        "2. Crear un arreglo de longitud 10 con ceros en todas sus posiciones y un 10 en la posición número 5\n",
        "3. Crear un arreglo que tenga los números del 10 al 49\n",
        "4. Crear una arreglo 2d de shape (3, 3) que tenga los números del 0 al 8\n",
        "5. Crear un arreglo de números aleatorios de longitud 100 y obtener su media y varianza\n",
        "6. Calcular la media de un arreglo usando np.sum\n",
        "7. Calcular la varianza de un arreglo usando np.sum y np.mean\n",
        "8. Crear un array de números aleatorios usando np.random.randn.\n"
      ]
    },
    {
      "cell_type": "code",
      "source": [
        "from google.colab import drive\n",
        "drive.mount('/content/drive')"
      ],
      "metadata": {
        "id": "_ra3EqNcP1gw"
      },
      "execution_count": null,
      "outputs": []
    },
    {
      "cell_type": "code",
      "source": [
        "#Importar numpy\n",
        "import numpy as np"
      ],
      "metadata": {
        "id": "_Ml6ucHAe0dr"
      },
      "execution_count": 2,
      "outputs": []
    },
    {
      "cell_type": "code",
      "source": [
        "array_ceros=np.zeros(12)\n",
        "print(array_ceros)\n",
        "len (array_ceros)\n"
      ],
      "metadata": {
        "colab": {
          "base_uri": "https://localhost:8080/"
        },
        "id": "xslsgAz5dBcI",
        "outputId": "6c57c521-1a77-4202-ed13-39f6b1592836"
      },
      "execution_count": 3,
      "outputs": [
        {
          "output_type": "stream",
          "name": "stdout",
          "text": [
            "[0. 0. 0. 0. 0. 0. 0. 0. 0. 0. 0. 0.]\n"
          ]
        },
        {
          "output_type": "execute_result",
          "data": {
            "text/plain": [
              "12"
            ]
          },
          "metadata": {},
          "execution_count": 3
        }
      ]
    },
    {
      "cell_type": "code",
      "source": [
        "#Ejercicio 1: Crear un arreglo de ceros de longitud 12\n",
        "Ejercicio1=np.zeros(12)\n",
        "print(Ejercicio1)\n",
        "len (Ejercicio1)"
      ],
      "metadata": {
        "id": "bDHUnDG-e0TB",
        "colab": {
          "base_uri": "https://localhost:8080/"
        },
        "outputId": "42e23b7a-0b16-48c1-f2fb-4fc5670fa5d7"
      },
      "execution_count": 11,
      "outputs": [
        {
          "output_type": "stream",
          "name": "stdout",
          "text": [
            "[0. 0. 0. 0. 0. 0. 0. 0. 0. 0. 0. 0.]\n"
          ]
        },
        {
          "output_type": "execute_result",
          "data": {
            "text/plain": [
              "12"
            ]
          },
          "metadata": {},
          "execution_count": 11
        }
      ]
    },
    {
      "cell_type": "code",
      "source": [
        "#prueba: arreglo de unos de longitud 5\n",
        "prueba=np.ones(5)\n",
        "print(prueba)"
      ],
      "metadata": {
        "colab": {
          "base_uri": "https://localhost:8080/"
        },
        "id": "nLlHeu0Obg5t",
        "outputId": "f0b886f6-e268-4fb3-d496-d7179fb991a9"
      },
      "execution_count": 12,
      "outputs": [
        {
          "output_type": "stream",
          "name": "stdout",
          "text": [
            "[1. 1. 1. 1. 1.]\n"
          ]
        }
      ]
    },
    {
      "cell_type": "code",
      "source": [
        "#Ejercicio 2: Crear un arreglo de longitud 10 con ceros en todas sus posiciones y un 10 en la posición número 5\n",
        "Ejercicio2=np.zeros(10)\n",
        "Ejercicio2[4]=10\n",
        "print(Ejercicio2)"
      ],
      "metadata": {
        "colab": {
          "base_uri": "https://localhost:8080/"
        },
        "id": "d0bEPMKDf-_l",
        "outputId": "5f6b071a-aaec-444d-acba-59bfbfd2b149"
      },
      "execution_count": 13,
      "outputs": [
        {
          "output_type": "stream",
          "name": "stdout",
          "text": [
            "[ 0.  0.  0.  0. 10.  0.  0.  0.  0.  0.]\n"
          ]
        }
      ]
    },
    {
      "cell_type": "code",
      "source": [
        "#prueba 2: en el arreglo de unos, que la tercer posicion tenga un 7\n",
        "prueba[3]=7\n",
        "print(prueba)"
      ],
      "metadata": {
        "colab": {
          "base_uri": "https://localhost:8080/"
        },
        "id": "3TQn79_Yb508",
        "outputId": "27ea81ad-425d-4c22-8a4d-0e9bcf41ec6c"
      },
      "execution_count": 16,
      "outputs": [
        {
          "output_type": "stream",
          "name": "stdout",
          "text": [
            "[1. 1. 1. 7. 1.]\n"
          ]
        }
      ]
    },
    {
      "cell_type": "code",
      "source": [
        "#Ejercicio 3: Crear un arreglo que tenga los números del 10 al 49\n",
        "array_10_49=np.arange(10,50)\n",
        "print(array_10_49)"
      ],
      "metadata": {
        "colab": {
          "base_uri": "https://localhost:8080/"
        },
        "id": "M3TJDCz1g-i7",
        "outputId": "58b52874-3d08-4810-a71d-08884008a4ab"
      },
      "execution_count": 8,
      "outputs": [
        {
          "output_type": "stream",
          "name": "stdout",
          "text": [
            "[10 11 12 13 14 15 16 17 18 19 20 21 22 23 24 25 26 27 28 29 30 31 32 33\n",
            " 34 35 36 37 38 39 40 41 42 43 44 45 46 47 48 49]\n"
          ]
        }
      ]
    },
    {
      "cell_type": "code",
      "source": [
        "#Ejercicio 4: Crear una arreglo 2d de shape (3, 3) que tenga los números del 0 al 8\n",
        "Ejercicio4=np.arange(9).reshape(3,3)\n",
        "print(Ejercicio4)"
      ],
      "metadata": {
        "colab": {
          "base_uri": "https://localhost:8080/"
        },
        "id": "IWBKX2tKguGs",
        "outputId": "124a85b2-5a44-4907-ccac-25d7649b06f5"
      },
      "execution_count": 17,
      "outputs": [
        {
          "output_type": "stream",
          "name": "stdout",
          "text": [
            "[[0 1 2]\n",
            " [3 4 5]\n",
            " [6 7 8]]\n"
          ]
        }
      ]
    },
    {
      "cell_type": "code",
      "source": [
        "#Ejercicio 5: Crear un arreglo de números aleatorios de longitud 100 y obtener su media y varianza\n",
        "Ejercicio5=np.random.rand(100)\n",
        "print(Ejercicio5)\n",
        "print(\"\")\n",
        "media = np.mean(Ejercicio5)\n",
        "print(\"Media:\", media)\n",
        "print(\"\")\n",
        "varianza = np.var(Ejercicio5)\n",
        "print(\"Varianza:\", varianza)"
      ],
      "metadata": {
        "colab": {
          "base_uri": "https://localhost:8080/"
        },
        "id": "N8mMKTPGf_Vu",
        "outputId": "0e7d5d27-a21c-4be0-c747-14a6026ab744"
      },
      "execution_count": 19,
      "outputs": [
        {
          "output_type": "stream",
          "name": "stdout",
          "text": [
            "[0.81521968 0.46387695 0.14752798 0.07142091 0.02583613 0.95950317\n",
            " 0.38207436 0.61520436 0.08123976 0.78739713 0.22411066 0.1284551\n",
            " 0.67514267 0.37941463 0.62496957 0.35287904 0.00651654 0.64679975\n",
            " 0.59927394 0.40154106 0.51474049 0.71327947 0.98622858 0.85329045\n",
            " 0.7215796  0.89898524 0.80693604 0.25700594 0.959918   0.78357853\n",
            " 0.24029905 0.18220924 0.26637125 0.01667058 0.24773249 0.75363259\n",
            " 0.30635014 0.65585347 0.06988726 0.86313099 0.59932052 0.20579819\n",
            " 0.71814708 0.25476966 0.35888878 0.4309268  0.6089248  0.83299274\n",
            " 0.81797391 0.78529631 0.46402963 0.77996229 0.70234479 0.95757798\n",
            " 0.1133953  0.92728146 0.38328717 0.62347356 0.9212509  0.34602549\n",
            " 0.71285954 0.56945808 0.89251733 0.86063928 0.66752862 0.08658465\n",
            " 0.32531068 0.30326255 0.20815174 0.33602487 0.0755166  0.99511203\n",
            " 0.50942581 0.72027183 0.26521644 0.90211629 0.75248884 0.84740008\n",
            " 0.75114707 0.8425545  0.64244349 0.92063441 0.46677107 0.21798704\n",
            " 0.88138833 0.42409867 0.91389202 0.67246302 0.46452355 0.18150635\n",
            " 0.3942397  0.04199693 0.40133034 0.20930655 0.43193262 0.64149198\n",
            " 0.92773429 0.36466446 0.61666861 0.19793487]\n",
            "\n",
            "Media: 0.5295434526821247\n",
            "\n",
            "Varianza: 0.08222407439909105\n"
          ]
        }
      ]
    },
    {
      "cell_type": "code",
      "source": [
        "#pruba 5: crear arreglo de 25 numeros aleatorios y calcular media y varianza\n",
        "Prueba5=np.random.rand(25)\n",
        "print(Prueba5)\n",
        "print(\"\")\n",
        "media25=np.mean(Prueba5)\n",
        "print(\"Media:\", media25 )\n",
        "print(\"\")\n",
        "varianza25=np.var(Prueba5)\n",
        "print(\"Varianza:\", varianza25)"
      ],
      "metadata": {
        "colab": {
          "base_uri": "https://localhost:8080/"
        },
        "id": "4-2Y8YBldi95",
        "outputId": "d315130a-7062-460b-cca3-e4504b6e92ae"
      },
      "execution_count": 21,
      "outputs": [
        {
          "output_type": "stream",
          "name": "stdout",
          "text": [
            "[0.84043608 0.19473259 0.26649538 0.81361877 0.58990788 0.93825496\n",
            " 0.11207767 0.12877983 0.70708949 0.51544994 0.81134522 0.09057965\n",
            " 0.0711154  0.63745698 0.37369331 0.41768557 0.86439988 0.77291976\n",
            " 0.04112146 0.51034458 0.54874533 0.06222274 0.20613828 0.71638724\n",
            " 0.13541833]\n",
            "\n",
            "Media: 0.454656651544258\n",
            "\n",
            "Varianza: 0.08841310566950186\n"
          ]
        }
      ]
    },
    {
      "cell_type": "code",
      "source": [
        "#Ejercicio 6: Calcular la media de un arreglo usando np.sum\n",
        "Ejercicio6 = np.sum(Ejercicio5)/[len(Ejercicio5)]\n",
        "print(Ejercicio6)"
      ],
      "metadata": {
        "colab": {
          "base_uri": "https://localhost:8080/"
        },
        "id": "wjIj6NHvitDW",
        "outputId": "5e027f92-63c4-450f-87c1-4e835db550c2"
      },
      "execution_count": 24,
      "outputs": [
        {
          "output_type": "stream",
          "name": "stdout",
          "text": [
            "[0.52954345]\n"
          ]
        }
      ]
    },
    {
      "cell_type": "code",
      "source": [
        "#prueba6: Calcular la media de un arreglo usando np.sum\n",
        "prueba6=np.sum(Prueba5)/[len(Prueba5)]\n",
        "print(prueba6)"
      ],
      "metadata": {
        "colab": {
          "base_uri": "https://localhost:8080/"
        },
        "id": "8HMhJ-9wet6H",
        "outputId": "6c2a5d23-ac3c-4044-a591-842ff856d119"
      },
      "execution_count": 26,
      "outputs": [
        {
          "output_type": "stream",
          "name": "stdout",
          "text": [
            "[0.45465665]\n"
          ]
        }
      ]
    },
    {
      "cell_type": "code",
      "source": [
        "#ejercicio 7: Calcular la varianza de un arreglo usando np.sum y np.mean\n",
        "Ejercicio7=np.sum((Ejercicio5-np.mean(Ejercicio5))**2)/[len(Ejercicio5)]\n",
        "print(Ejercicio7)"
      ],
      "metadata": {
        "colab": {
          "base_uri": "https://localhost:8080/"
        },
        "id": "7Zdj3AxHlvu7",
        "outputId": "3c3c501c-1e88-4ca2-e65f-af0d097db76c"
      },
      "execution_count": 25,
      "outputs": [
        {
          "output_type": "stream",
          "name": "stdout",
          "text": [
            "[0.08222407]\n"
          ]
        }
      ]
    },
    {
      "cell_type": "code",
      "source": [
        "#Ejercicio8\n",
        "#Crear un array de números aleatorios usando np.random.randn\n",
        "\n",
        "Ejercicio8=np.random.rand(15) #en mi caso elegi 15 numeros random\n",
        "print(Ejercicio8)"
      ],
      "metadata": {
        "id": "KfQNeLQJl6J5",
        "colab": {
          "base_uri": "https://localhost:8080/"
        },
        "outputId": "09677fb8-23a4-4455-bd4e-41ce98323cf5"
      },
      "execution_count": 27,
      "outputs": [
        {
          "output_type": "stream",
          "name": "stdout",
          "text": [
            "[0.03498644 0.43515365 0.54150113 0.38269483 0.83561407 0.42326542\n",
            " 0.49062878 0.77979908 0.93036649 0.33049057 0.75052048 0.69364878\n",
            " 0.72445908 0.72010016 0.0862884 ]\n"
          ]
        }
      ]
    }
  ]
}